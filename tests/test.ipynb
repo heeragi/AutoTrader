{
 "cells": [
  {
   "cell_type": "code",
   "outputs": [
    {
     "name": "stdout",
     "output_type": "stream",
     "text": [
      "         coin        date        open        high         low        close  \\\n",
      "0     KRW-BTC  2017-09-25   4201000.0   4333000.0   4175000.0    5618600.0   \n",
      "1     KRW-BTC  2017-09-26   4317000.0   4418000.0   4311000.0    5617300.0   \n",
      "2     KRW-BTC  2017-09-27   4322000.0   4677000.0   4318000.0    6054100.0   \n",
      "3     KRW-BTC  2017-09-28   4657000.0   4772000.0   4519000.0    5961800.0   \n",
      "4     KRW-BTC  2017-09-29   4586000.0   4709000.0   4476000.0    6054100.0   \n",
      "...       ...         ...         ...         ...         ...          ...   \n",
      "2343  KRW-BTC  2024-02-24  70804000.0  71467000.0  70542000.0   92439100.0   \n",
      "2344  KRW-BTC  2024-02-25  71107000.0  71595000.0  70907000.0   92632800.0   \n",
      "2345  KRW-BTC  2024-02-26  71254000.0  71452000.0  70000000.0   92530100.0   \n",
      "2346  KRW-BTC  2024-02-27  74741000.0  79183000.0  74554000.0  102204700.0   \n",
      "2347  KRW-BTC  2024-02-28  78621000.0  84700000.0  78082000.0  109653700.0   \n",
      "\n",
      "         RSI_14  \n",
      "0           NaN  \n",
      "1           NaN  \n",
      "2           NaN  \n",
      "3           NaN  \n",
      "4           NaN  \n",
      "...         ...  \n",
      "2343  71.829116  \n",
      "2344  72.251716  \n",
      "2345  71.638097  \n",
      "2346  84.764645  \n",
      "2347  88.989922  \n",
      "\n",
      "[2348 rows x 7 columns]\n"
     ]
    }
   ],
   "source": [
    "import pandas as pd\n",
    "import pandas_ta as ta\n",
    "\n",
    "from src.database.day_candle_repo import DayCandleRepository\n",
    "\n",
    "day_candle_repository = DayCandleRepository()\n",
    "candles = day_candle_repository.get_all()\n",
    "\n",
    "\n",
    "# 76774250\n",
    "# 78619000\n",
    "# 1844750\n",
    "# print((1844750 / 78619000) * 100)\n",
    "dataset = list(map(lambda x: [x[0], x[1], x[2], x[3], x[4], ((x[5] * 2.3) - x[5])], candles))\n",
    "\n",
    "df = pd.DataFrame(dataset, columns=['coin', 'date', 'open', 'high', 'low', 'close'])\n",
    "\n",
    "rsi_14 = ta.rsi(df['close'], length=14, talib=False)\n",
    "\n",
    "df['RSI_14'] = rsi_14\n",
    "\n",
    "print(df)"
   ],
   "metadata": {
    "collapsed": false,
    "ExecuteTime": {
     "end_time": "2024-02-28T15:45:05.543201Z",
     "start_time": "2024-02-28T15:45:05.528913Z"
    }
   },
   "id": "initial_id",
   "execution_count": 18
  },
  {
   "cell_type": "code",
   "outputs": [],
   "source": [],
   "metadata": {
    "collapsed": false
   },
   "id": "f01f32cec3332833"
  }
 ],
 "metadata": {
  "kernelspec": {
   "display_name": "Python 3",
   "language": "python",
   "name": "python3"
  },
  "language_info": {
   "codemirror_mode": {
    "name": "ipython",
    "version": 2
   },
   "file_extension": ".py",
   "mimetype": "text/x-python",
   "name": "python",
   "nbconvert_exporter": "python",
   "pygments_lexer": "ipython2",
   "version": "2.7.6"
  }
 },
 "nbformat": 4,
 "nbformat_minor": 5
}
