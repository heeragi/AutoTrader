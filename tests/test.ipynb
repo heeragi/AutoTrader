{
 "cells": [
  {
   "cell_type": "code",
   "outputs": [
    {
     "name": "stdout",
     "output_type": "stream",
     "text": [
      "0             NaN\n",
      "1             NaN\n",
      "2             NaN\n",
      "3             NaN\n",
      "4             NaN\n",
      "          ...    \n",
      "2343    71.829116\n",
      "2344    72.251716\n",
      "2345    71.638097\n",
      "2346    84.764645\n",
      "2347    88.989922\n",
      "Name: RSI_14, Length: 2348, dtype: float64\n"
     ]
    }
   ],
   "source": [
    "import pandas as pd\n",
    "import pandas_ta as ta\n",
    "\n",
    "from src.database.day_candle_repo import DayCandleRepository\n",
    "\n",
    "day_candle_repository = DayCandleRepository()\n",
    "candles = day_candle_repository.get_all()\n",
    "\n",
    "dataset = list(map(lambda x: [x[0], x[1], x[2], x[3], x[4], x[5]], candles))\n",
    "\n",
    "df = pd.DataFrame(dataset, columns=['coin', 'date', 'open', 'high', 'low', 'close'])\n",
    "\n",
    "rsi_14 = ta.rsi(df['close'], length=14, talib=False)\n",
    "# macd = ta.macd(df['close'], fast=12, slow=26, signal=9)\n",
    "\n",
    "print(rsi_14)"
   ],
   "metadata": {
    "collapsed": false,
    "ExecuteTime": {
     "end_time": "2024-02-28T15:27:38.679706Z",
     "start_time": "2024-02-28T15:27:38.303578Z"
    }
   },
   "id": "initial_id",
   "execution_count": 1
  },
  {
   "cell_type": "code",
   "outputs": [],
   "source": [],
   "metadata": {
    "collapsed": false
   },
   "id": "f01f32cec3332833"
  }
 ],
 "metadata": {
  "kernelspec": {
   "display_name": "Python 3",
   "language": "python",
   "name": "python3"
  },
  "language_info": {
   "codemirror_mode": {
    "name": "ipython",
    "version": 2
   },
   "file_extension": ".py",
   "mimetype": "text/x-python",
   "name": "python",
   "nbconvert_exporter": "python",
   "pygments_lexer": "ipython2",
   "version": "2.7.6"
  }
 },
 "nbformat": 4,
 "nbformat_minor": 5
}
